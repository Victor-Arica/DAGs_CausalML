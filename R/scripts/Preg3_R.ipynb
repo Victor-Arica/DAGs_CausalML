{
 "cells": [
  {
   "cell_type": "code",
   "execution_count": 1,
   "id": "41ab03d1",
   "metadata": {},
   "outputs": [
    {
     "name": "stderr",
     "output_type": "stream",
     "text": [
      "Warning message:\n",
      "\"package 'dagitty' was built under R version 4.3.3\"\n",
      "\n",
      "Attaching package: 'dplyr'\n",
      "\n",
      "\n",
      "The following objects are masked from 'package:stats':\n",
      "\n",
      "    filter, lag\n",
      "\n",
      "\n",
      "The following objects are masked from 'package:base':\n",
      "\n",
      "    intersect, setdiff, setequal, union\n",
      "\n",
      "\n",
      "Warning message:\n",
      "\"package 'gridExtra' was built under R version 4.3.3\"\n",
      "\n",
      "Attaching package: 'gridExtra'\n",
      "\n",
      "\n",
      "The following object is masked from 'package:dplyr':\n",
      "\n",
      "    combine\n",
      "\n",
      "\n"
     ]
    }
   ],
   "source": [
    "library(dagitty)\n",
    "library(ggplot2)\n",
    "library(dplyr)\n",
    "library(gridExtra)\n",
    "library(broom)\n",
    "library(knitr)\n",
    "library(xtable)\n"
   ]
  },
  {
   "cell_type": "code",
   "execution_count": 2,
   "id": "3c582b9e",
   "metadata": {},
   "outputs": [],
   "source": [
    "setwd(\"C:/Users/Julio/output\")"
   ]
  },
  {
   "cell_type": "code",
   "execution_count": 3,
   "id": "db15bdd7",
   "metadata": {},
   "outputs": [
    {
     "name": "stdout",
     "output_type": "stream",
     "text": [
      "Me imagino a que con el <ejemplo 4 de Lab7> se refieren a la imagen, así que trabajaré con eso "
     ]
    }
   ],
   "source": [
    "cat(\"Me imagino a que con el <ejemplo 4 de Lab7> se refieren a la imagen, así que trabajaré con eso \")"
   ]
  },
  {
   "cell_type": "code",
   "execution_count": 6,
   "id": "d8b2fb88",
   "metadata": {},
   "outputs": [
    {
     "name": "stderr",
     "output_type": "stream",
     "text": [
      "Plot coordinates for graph not supplied! Generating coordinates, see ?coordinates for how to set your own.\n",
      "\n"
     ]
    },
    {
     "data": {
      "image/png": "[encoded data removed]",
      "text/plain": [
       "plot without title"
      ]
     },
     "metadata": {
      "image/png": {
       "height": 420,
       "width": 420
      }
     },
     "output_type": "display_data"
    }
   ],
   "source": [
    "#3.a) El DAG original\n",
    "#Creamos el DAG\n",
    "dag_maldito <- dagitty(\"dag {\n",
    "    U1 -> X\n",
    "    U1 -> Z\n",
    "    Z -> Y\n",
    "    U2 -> Y\n",
    "    U2 -> Z\n",
    "    X -> Y\n",
    "   \n",
    "}\")\n",
    "\n",
    "# Visualizar el DAG\n",
    "plot(dag_maldito, main = \"Maldito si lo haces, maldito si no lo haces\")"
   ]
  },
  {
   "cell_type": "code",
   "execution_count": 7,
   "id": "e31fbda8",
   "metadata": {},
   "outputs": [
    {
     "name": "stderr",
     "output_type": "stream",
     "text": [
      "Plot coordinates for graph not supplied! Generating coordinates, see ?coordinates for how to set your own.\n",
      "\n"
     ]
    },
    {
     "data": {
      "text/html": [
       "<strong>pdf:</strong> 2"
      ],
      "text/latex": [
       "\\textbf{pdf:} 2"
      ],
      "text/markdown": [
       "**pdf:** 2"
      ],
      "text/plain": [
       "pdf \n",
       "  2 "
      ]
     },
     "metadata": {},
     "output_type": "display_data"
    }
   ],
   "source": [
    "png(\"Ejemplo4_lab7.png\", width = 1000, height = 800, res = 120)\n",
    "plot(dag_maldito, main = \"Maldito si no la haces, pero si lo hice jeje\")\n",
    "dev.off()"
   ]
  },
  {
   "cell_type": "code",
   "execution_count": 9,
   "id": "1208dcab",
   "metadata": {},
   "outputs": [
    {
     "data": {
      "image/png": "[encoded data removed]",
      "text/plain": [
       "plot without title"
      ]
     },
     "metadata": {
      "image/png": {
       "height": 420,
       "width": 420
      }
     },
     "output_type": "display_data"
    }
   ],
   "source": [
    "#Graficar\n",
    "n <- 1000\n",
    "U1 <- rnorm(n, 0, 1)                    # Variable no observada 1\n",
    "U2 <- rnorm(n, 0, 1)                    # Variable no observada 2\n",
    "X <- U1 + rnorm(n, 0, 1)                # X depende de U1\n",
    "Z <- U1 + U2 + rnorm(n, 0, 1)           # Z es colisionador (depende de U1 y U2)\n",
    "Y <- 2 * X + U2 + rnorm(n, 0, 1)        # Y depende de X y U2. Efecto verdadero de X sobre Y es 2\n",
    "\n",
    "# Crear marco de datos\n",
    "datos_parte3a <- data.frame(Y = Y, X = X, Z = Z, U1 = U1, U2 = U2)\n",
    "\n",
    "# Regresiones con y sin controlar por Z (el colisionador)\n",
    "modelo_sin_z <- lm(Y ~ X, data = datos_parte3a)        # Sin controlar Z\n",
    "modelo_con_z <- lm(Y ~ X + Z, data = datos_parte3a)    # Controlando por Z\n",
    "\n",
    "# Preparar resultados para graficar\n",
    "resultados_coef_3a <- data.frame(\n",
    "    modelo = c(\"Sin Z\", \"Con Z\"),\n",
    "    estimacion = c(coef(modelo_sin_z)[\"X\"], coef(modelo_con_z)[\"X\"]),\n",
    "    conf_inferior = c(confint(modelo_sin_z, \"X\", level = 0.99)[1], \n",
    "                      confint(modelo_con_z, \"X\", level = 0.99)[1]),\n",
    "    conf_superior = c(confint(modelo_sin_z, \"X\", level = 0.99)[2], \n",
    "                      confint(modelo_con_z, \"X\", level = 0.99)[2])\n",
    ")\n",
    "\n",
    "# Crear gráfico comparativo\n",
    "grafico_parte3a <- ggplot(resultados_coef_3a, aes(x = modelo, y = estimacion)) +\n",
    "    geom_point(size = 3, color = \"darkgreen\") +\n",
    "    geom_errorbar(aes(ymin = conf_inferior, ymax = conf_superior), width = 0.2) +\n",
    "    geom_hline(yintercept = 2, color = \"red\", linetype = \"dashed\", size = 1) +\n",
    "    labs(title = \"Escenario Original: Efecto de X sobre Y\",\n",
    "         subtitle = \"Efecto causal verdadero = 2 (línea roja discontinua)\",\n",
    "         x = \"Especificación del Modelo\", y = \"Coeficiente Estimado\") +\n",
    "    theme_minimal()\n",
    "\n",
    "print(grafico_parte3a)\n",
    "ggsave(\"grafico_parte3a.png\", \n",
    "       plot = grafico_parte3a, width = 10, height = 6, dpi = 300, bg = \"white\")"
   ]
  },
  {
   "cell_type": "code",
   "execution_count": 10,
   "id": "3f83b143",
   "metadata": {},
   "outputs": [
    {
     "name": "stderr",
     "output_type": "stream",
     "text": [
      "Plot coordinates for graph not supplied! Generating coordinates, see ?coordinates for how to set your own.\n",
      "\n"
     ]
    },
    {
     "data": {
      "image/png": "[encoded data removed]",
      "text/plain": [
       "plot without title"
      ]
     },
     "metadata": {
      "image/png": {
       "height": 420,
       "width": 420
      }
     },
     "output_type": "display_data"
    }
   ],
   "source": [
    "#3.b) DAG Modificado con Z afectando a X\n",
    "dag_modificado <- dagitty(\"dag {\n",
    "    U1 -> X\n",
    "    U1 -> Z\n",
    "    Z -> Y\n",
    "    U2 -> Y\n",
    "    U2 -> Z\n",
    "    X -> Y\n",
    "}\")\n",
    "\n",
    "# Visualizar el DAG modificado\n",
    "plot(dag_modificado, main = \"DAG Modificado: Z afecta a X\")"
   ]
  },
  {
   "cell_type": "code",
   "execution_count": 19,
   "id": "67acabbe",
   "metadata": {},
   "outputs": [
    {
     "name": "stdout",
     "output_type": "stream",
     "text": [
      "[1] \"MATRIZ DE RESULTADOS\"\n",
      "                   β     SE\n",
      "Sin controles 2.1202 0.0228\n",
      "Z             1.7675 0.0311\n",
      "U1            2.2896 0.0359\n",
      "Z, U1         1.9305 0.0400\n",
      "U2            1.9942 0.0167\n",
      "Z, U2         1.9901 0.0262\n",
      "U1, U2        1.9627 0.0282\n",
      "Z, U1, U2     1.9642 0.0322\n"
     ]
    }
   ],
   "source": [
    "# Simular datos para el escenario modificado\n",
    "U1_mod <- rnorm(n, 0, 1)                              # Variable no observada 1\n",
    "U2_mod <- rnorm(n, 0, 1)                              # Variable no observada 2\n",
    "Z_mod <- U1_mod + U2_mod + rnorm(n, 0, 1)             # Z depende de U1 y U2\n",
    "X_mod <- U1_mod + 0.5 * Z_mod + rnorm(n, 0, 1)        # X ahora también depende de Z\n",
    "Y_mod <- 2 * X_mod + U2_mod + rnorm(n, 0, 1)          # Y depende de X y U2. Efecto verdadero sigue siendo 2\n",
    "\n",
    "# Crear marco de datos modificado\n",
    "datos_parte3b <- data.frame(Y = Y_mod, X = X_mod, Z = Z_mod, U1 = U1_mod, U2 = U2_mod)\n",
    "\n",
    "# Generar todas las combinaciones posibles de controles (2^3 = 8 regresiones)\n",
    "combinaciones_controles <- expand.grid(\n",
    "    Z = c(FALSE, TRUE),\n",
    "    U1 = c(FALSE, TRUE), \n",
    "    U2 = c(FALSE, TRUE)\n",
    ")\n",
    "\n",
    "# Crear matriz para almacenar resultados\n",
    "matriz_resultados <- matrix(NA, nrow = 8, ncol = 2)\n",
    "colnames(matriz_resultados) <- c(\"β\", \"SE\")  # β = coeficiente, EE = Error Estándar\n",
    "\n",
    "# Crear nombres de filas descriptivos para cada combinación\n",
    "rownames(matriz_resultados) <- apply(combinaciones_controles, 1, function(x) {\n",
    "    controles <- names(x)[x == TRUE]\n",
    "    if(length(controles) == 0) return(\"Sin controles\")\n",
    "    return(paste(controles, collapse = \", \"))\n",
    "})\n",
    "\n",
    "# Ejecutar todas las regresiones posibles\n",
    "for(i in 1:nrow(combinaciones_controles)) {\n",
    "    # Identificar qué controles incluir en esta iteración\n",
    "    controles <- names(combinaciones_controles)[combinaciones_controles[i,] == TRUE]\n",
    "    \n",
    "    # Construir fórmula de regresión\n",
    "    if(length(controles) == 0) {\n",
    "        formula_regresion <- \"Y ~ X\"\n",
    "    } else {\n",
    "        formula_regresion <- paste(\"Y ~ X +\", paste(controles, collapse = \" + \"))\n",
    "    }\n",
    "    \n",
    "    # Ajustar modelo y extraer coeficiente de X y su error estándar\n",
    "    modelo <- lm(as.formula(formula_regresion), data = datos_parte3b)\n",
    "    matriz_resultados[i, 1] <- coef(modelo)[\"X\"]\n",
    "    matriz_resultados[i, 2] <- summary(modelo)$coefficients[\"X\", \"Std. Error\"]\n",
    "}\n",
    "\n",
    "# Mostrar matriz de resultados\n",
    "print(\"MATRIZ DE RESULTADOS\")\n",
    "print(round(matriz_resultados, 4))\n",
    "\n",
    "# Preparar tabla para exportación\n",
    "df_resultados <- as.data.frame(matriz_resultados)\n",
    "df_resultados$Controles <- rownames(matriz_resultados)\n",
    "df_resultados <- df_resultados[, c(\"Controles\", \"β\", \"SE\")]  # Reordenar columnas\n"
   ]
  },
  {
   "cell_type": "code",
   "execution_count": 20,
   "id": "372e2d21",
   "metadata": {},
   "outputs": [
    {
     "name": "stdout",
     "output_type": "stream",
     "text": [
      "                  Controles        β         SE\n",
      "Sin controles Sin controles 2.120221 0.02276610\n",
      "Z                         Z 1.767485 0.03109929\n",
      "U1                       U1 2.289614 0.03586122\n",
      "Z, U1                 Z, U1 1.930451 0.04000907\n",
      "U2                       U2 1.994159 0.01671252\n",
      "Z, U2                 Z, U2 1.990111 0.02617496\n",
      "U1, U2               U1, U2 1.962692 0.02816534\n",
      "Z, U1, U2         Z, U1, U2 1.964250 0.03221508\n"
     ]
    }
   ],
   "source": [
    "print(df_resultados)"
   ]
  },
  {
   "cell_type": "code",
   "execution_count": 23,
   "id": "ed90b90a",
   "metadata": {},
   "outputs": [
    {
     "name": "stdout",
     "output_type": "stream",
     "text": [
      "Sin controles             Z            U1         Z, U1            U2 \n",
      "  0.120221032   0.232514815   0.289613559   0.069549410   0.005840687 \n",
      "        Z, U2        U1, U2     Z, U1, U2 \n",
      "  0.009888703   0.037307629   0.035750394 \n"
     ]
    }
   ],
   "source": [
    "#Analisis de resultados\n",
    "# Identificar estimaciones más cercanas al efecto verdadero\n",
    "efecto_verdadero <- 2\n",
    "desviaciones <- abs(matriz_resultados[,1] - efecto_verdadero)\n",
    "mejores_estimaciones <- which(desviaciones < 0.1)\n",
    "print(desviaciones)"
   ]
  },
  {
   "cell_type": "code",
   "execution_count": 25,
   "id": "31722882",
   "metadata": {},
   "outputs": [
    {
     "name": "stdout",
     "output_type": "stream",
     "text": [
      "    Z, U1        U2     Z, U2    U1, U2 Z, U1, U2 \n",
      "        4         5         6         7         8 \n"
     ]
    }
   ],
   "source": [
    "print(mejores_estimaciones)"
   ]
  },
  {
   "cell_type": "code",
   "execution_count": 26,
   "id": "c24f228c",
   "metadata": {},
   "outputs": [],
   "source": [
    "#Exportar df_resultados como .txt\n",
    "write.table(df_resultados, \n",
    "        file = \"df_resultados.txt\",sep = \"\\t\",row.names = FALSE, col.names = TRUE, quote = FALSE)  "
   ]
  },
  {
   "cell_type": "code",
   "execution_count": null,
   "id": "16eff143",
   "metadata": {},
   "outputs": [],
   "source": [
    "#Respondemos las últimas preguntas\n",
    "Respuestas_Preg3 <- \"\n",
    "-Con base en sus hallazgos, ¿de qué manera puede obtener una buena estimación del efecto causal?\n",
    "Controlando simultáneamente por U1 y U2. Ello bloquea todas las rutas traseras evitando el sesgo del colllider.\n",
    "\n",
    "-¿Cuál es el conjunto mínimo suficiente de controles para obtener una buena estimación?\n",
    "Obviamente, U1 y U2 JUNTOS forman el conjunto mínimo suficiente. Controlar solo por Z introduce sesgo por el collider.\n",
    "Y controlar con U1 o U2 por separado es insuficiente ya que quedan rutas traseras <abiertas>.\n",
    "\n",
    "-Proporcione intuición sobre por qué puede obtener buenas estimaciones controlando las variables que estableció por encima de 0.1\n",
    "Sucede que 1 y U2 son las causas comunes que crean confusión, al controlar por ambas, bloqueamos todas las rutas traseras de X a Y.\n",
    "y como Z es un colisionador,controlarlo abre rutas sesgantes.\n",
    "Entonces, La combinación U1 + U2 nos da la identificación más limpia. \n",
    "\"\n",
    "writeLines(Respuestas_Preg3,\"Respuestas_Preg3.md\")"
   ]
  }
 ],
 "metadata": {
  "kernelspec": {
   "display_name": "R",
   "language": "R",
   "name": "ir"
  },
  "language_info": {
   "codemirror_mode": "r",
   "file_extension": ".r",
   "mimetype": "text/x-r-source",
   "name": "R",
   "pygments_lexer": "r",
   "version": "4.3.1"
  }
 },
 "nbformat": 4,
 "nbformat_minor": 5
}
