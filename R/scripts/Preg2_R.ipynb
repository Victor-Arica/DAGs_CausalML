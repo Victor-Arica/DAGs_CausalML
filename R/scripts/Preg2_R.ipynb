{
 "cells": [
  {
   "cell_type": "code",
   "execution_count": 4,
   "id": "f1d1b66f",
   "metadata": {},
   "outputs": [
    {
     "name": "stderr",
     "output_type": "stream",
     "text": [
      "\n",
      "Attaching package: 'dplyr'\n",
      "\n",
      "\n",
      "The following objects are masked from 'package:stats':\n",
      "\n",
      "    filter, lag\n",
      "\n",
      "\n",
      "The following objects are masked from 'package:base':\n",
      "\n",
      "    intersect, setdiff, setequal, union\n",
      "\n",
      "\n",
      "Warning message:\n",
      "\"package 'gridExtra' was built under R version 4.3.3\"\n",
      "\n",
      "Attaching package: 'gridExtra'\n",
      "\n",
      "\n",
      "The following object is masked from 'package:dplyr':\n",
      "\n",
      "    combine\n",
      "\n",
      "\n"
     ]
    }
   ],
   "source": [
    "library(dagitty)\n",
    "library(ggplot2)\n",
    "library(dplyr)\n",
    "library(gridExtra)\n",
    "library(broom)\n",
    "library(knitr)\n",
    "library(xtable)"
   ]
  },
  {
   "cell_type": "code",
   "execution_count": 8,
   "id": "1e9b989a",
   "metadata": {},
   "outputs": [],
   "source": [
    "setwd(\"C:/Users/Julio/output\")"
   ]
  },
  {
   "cell_type": "code",
   "execution_count": 5,
   "id": "43d4176e",
   "metadata": {},
   "outputs": [
    {
     "name": "stderr",
     "output_type": "stream",
     "text": [
      "Plot coordinates for graph not supplied! Generating coordinates, see ?coordinates for how to set your own.\n",
      "\n"
     ]
    },
    {
     "data": {
      "image/png": "[encoded data removed]",
      "text/plain": [
       "plot without title"
      ]
     },
     "metadata": {
      "image/png": {
       "height": 420,
       "width": 420
      }
     },
     "output_type": "display_data"
    }
   ],
   "source": [
    "#Parte2\n",
    "# Crear y graficar el DAG\n",
    "dag_parte2 <- dagitty(\"dag {\n",
    "    Z1 -> X\n",
    "    Z1 -> Y\n",
    "    Z2 -> X  \n",
    "    Z2 -> Y\n",
    "    Z3 -> Z2\n",
    "    Z3 -> Y\n",
    "    X -> Y\n",
    "}\")\n",
    "\n",
    "# Visualizar la estructura causal\n",
    "plot(dag_parte2, main = \"DAG Parte 2: Estructura Causal Compleja\")\n",
    "\n",
    "# Simular datos siguiendo la estructura pedida\n",
    "n <- 1000  # Tamaño de muestra\n",
    "\n",
    "# Generar variables siguiendo el orden causal especificado\n",
    "Z3 <- rnorm(n, 0, 1)                    # Z3 es exógena (sin causas)\n",
    "Z1 <- rnorm(n, 0, 1)                    # Z1 es exógena (sin causas)\n",
    "Z2 <- Z3 + rnorm(n, 0, 1)               # Z2 depende de Z3\n",
    "X <- Z1 + Z2 + rnorm(n, 0, 1)           # X depende de Z1 y Z2\n",
    "Y <- X + Z1 + Z2 + Z3 + rnorm(n, 0, 1)  # Y depende de X, Z1, Z2, Z3\n",
    "                                        # Efecto verdadero de X sobre Y es 1\n",
    "\n",
    "# Crear marco de datos con todas las variables\n",
    "datos_parte2 <- data.frame(Y = Y, X = X, Z1 = Z1, Z2 = Z2, Z3 = Z3)"
   ]
  },
  {
   "cell_type": "code",
   "execution_count": 9,
   "id": "e9b8eda7",
   "metadata": {},
   "outputs": [
    {
     "data": {
      "image/png": "[encoded data removed]",
      "text/plain": [
       "plot without title"
      ]
     },
     "metadata": {
      "image/png": {
       "height": 420,
       "width": 420
      }
     },
     "output_type": "display_data"
    }
   ],
   "source": [
    "# Ejecutar las 5 regresiones especificadas en la tarea\n",
    "modelo1 <- lm(Y ~ X, data = datos_parte2)                      # Solo X\n",
    "modelo2 <- lm(Y ~ X + Z1, data = datos_parte2)                 # X + Z1\n",
    "modelo3 <- lm(Y ~ X + Z2, data = datos_parte2)                 # X + Z2\n",
    "modelo4 <- lm(Y ~ X + Z1 + Z2, data = datos_parte2)            # X + Z1 + Z2\n",
    "modelo5 <- lm(Y ~ X + Z1 + Z2 + Z3, data = datos_parte2)       # Todos los controles\n",
    "\n",
    "# Crear lista de modelos y nombres para procesamiento\n",
    "modelos <- list(modelo1, modelo2, modelo3, modelo4, modelo5)\n",
    "nombres_modelos <- c(\"Y ~ X\", \"Y ~ X + Z1\", \"Y ~ X + Z2\", \n",
    "                     \"Y ~ X + Z1 + Z2\", \"Y ~ X + Z1 + Z2 + Z3\")\n",
    "\n",
    "# Extraer coeficientes e intervalos de confianza al 99%\n",
    "resultados <- data.frame()\n",
    "for(i in 1:length(modelos)) {\n",
    "    # Usar broom::tidy para extraer información del modelo de forma ordenada\n",
    "    info_coef <- tidy(modelos[[i]], conf.int = TRUE, conf.level = 0.99) %>%\n",
    "        filter(term == \"X\")  # Solo nos interesa el coeficiente de X\n",
    "    \n",
    "    # Agregar información a nuestro marco de resultados\n",
    "    resultados <- rbind(resultados, data.frame(\n",
    "        modelo = nombres_modelos[i],\n",
    "        estimacion = info_coef$estimate,\n",
    "        conf_inferior = info_coef$conf.low,\n",
    "        conf_superior = info_coef$conf.high,\n",
    "        valor_p = info_coef$p.value\n",
    "    ))\n",
    "}\n",
    "\n",
    "# Crear gráfico comparativo de los resultados\n",
    "grafico_parte2 <- ggplot(resultados, aes(x = modelo, y = estimacion)) +\n",
    "    geom_point(size = 3, color = \"blue\") +  # Puntos para las estimaciones\n",
    "    # Barras de error para intervalos de confianza\n",
    "    geom_errorbar(aes(ymin = conf_inferior, ymax = conf_superior), width = 0.2) +\n",
    "    # Línea horizontal roja para el efecto verdadero\n",
    "    geom_hline(yintercept = 1, color = \"red\", linetype = \"dashed\", size = 1) +\n",
    "    labs(title = \"Efecto de X sobre Y en diferentes especificaciones\",\n",
    "         subtitle = \"Intervalos de Confianza al 99% | Línea roja = Efecto verdadero (1)\",\n",
    "         x = \"Especificación del Modelo\", \n",
    "         y = \"Coeficiente Estimado para X\") +\n",
    "    theme_minimal() +\n",
    "    theme(axis.text.x = element_text(angle = 45, hjust = 1))  # Rotar etiquetas del eje X\n",
    "\n",
    "# Mostrar el gráfico\n",
    "print(grafico_parte2)\n",
    "ggsave(\"efecto_X_sobre_Y.png\", \n",
    "       plot = grafico_parte2, width = 10, height = 6, dpi = 300, bg = \"white\")"
   ]
  },
  {
   "cell_type": "code",
   "execution_count": 12,
   "id": "28aca6bf",
   "metadata": {},
   "outputs": [
    {
     "name": "stdout",
     "output_type": "stream",
     "text": [
      "MODELO 4 (Y ~ X + Z1 + Z2):\n",
      "- Estimación puntual: 0.9294 \n",
      "- Error estándar: 0.0374 \n",
      "- R-cuadrado: 0.9163 \n",
      "\n",
      "MODELO 5 (Y ~ X + Z1 + Z2 + Z3):\n",
      "- Estimación puntual: 0.9758 \n",
      "- Error estándar: 0.0307 \n",
      "- R-cuadrado: 0.944 \n",
      "\n"
     ]
    }
   ],
   "source": [
    "#Comparar modelo 4 y 5\n",
    "coef_4 <- coef(modelo4)[\"X\"]\n",
    "se_4 <- summary(modelo4)$coefficients[\"X\", \"Std. Error\"]\n",
    "r2_4 <- summary(modelo4)$r.squared\n",
    "\n",
    "coef_5 <- coef(modelo5)[\"X\"]  \n",
    "se_5 <- summary(modelo5)$coefficients[\"X\", \"Std. Error\"]\n",
    "r2_5 <- summary(modelo5)$r.squared\n",
    "\n",
    "cat(\"MODELO 4 (Y ~ X + Z1 + Z2):\\n\")\n",
    "cat(\"- Estimación puntual:\", round(coef_4, 4), \"\\n\")\n",
    "cat(\"- Error estándar:\", round(se_4, 4), \"\\n\") \n",
    "cat(\"- R-cuadrado:\", round(r2_4, 4), \"\\n\\n\")\n",
    "\n",
    "cat(\"MODELO 5 (Y ~ X + Z1 + Z2 + Z3):\\n\")\n",
    "cat(\"- Estimación puntual:\", round(coef_5, 4), \"\\n\")\n",
    "cat(\"- Error estándar:\", round(se_5, 4), \"\\n\")\n",
    "cat(\"- R-cuadrado:\", round(r2_5, 4), \"\\n\\n\")\n"
   ]
  },
  {
   "cell_type": "code",
   "execution_count": 13,
   "id": "5a74866d",
   "metadata": {},
   "outputs": [],
   "source": [
    "Respuestas_2 <-\"¿Qué regresiones parecen estimar el efecto correctamente?\n",
    "Los modelos 4 y 5 estiman el efecto correctamente. (el 3rd y el 4to IC en el gráfico)\n",
    "Miremos:\n",
    "Modelo 4 (Y ~ X + Z1 + Z2): Estimación ≈ 0.98, muy cerca del efecto verdadero de 1\n",
    "Modelo 5 (Y ~ X + Z1 + Z2 + Z3): Estimación ≈ 1.44, pero con mayor variabilidad\n",
    "Los modelos 1, 2 y 3 están sesgados porque no controlan por todas las variables confusoras necesarias.\n",
    "\n",
    "Sobre los modelos 4 y 5. ¿Qué puede comentar sobre la estimación puntual y la cesión?\n",
    "Modelo 4: Más preciso, menor error estándar, estimación más estable\n",
    "Modelo 5: Menos preciso debido a que Z3 introduce multicolinealidad sin beneficio adicional\n",
    "\n",
    "¿Puedes ignorar algunos Z e Z_1, Z_2, Z_3 y obtener una buena estimación? ¿Por qué crees que es así?\n",
    "Se puede ignorar Z3, pero NO se pueden ignorar Z1 ni Z2.\n",
    "\""
   ]
  },
  {
   "cell_type": "code",
   "execution_count": 14,
   "id": "d5f22a98",
   "metadata": {},
   "outputs": [],
   "source": [
    "writeLines(Respuestas_2,\"Respuestas_Preg2.md\")"
   ]
  },
  {
   "cell_type": "code",
   "execution_count": null,
   "id": "b0019e3e",
   "metadata": {},
   "outputs": [],
   "source": []
  }
 ],
 "metadata": {
  "kernelspec": {
   "display_name": "R",
   "language": "R",
   "name": "ir"
  },
  "language_info": {
   "codemirror_mode": "r",
   "file_extension": ".r",
   "mimetype": "text/x-r-source",
   "name": "R",
   "pygments_lexer": "r",
   "version": "4.3.1"
  }
 },
 "nbformat": 4,
 "nbformat_minor": 5
}
