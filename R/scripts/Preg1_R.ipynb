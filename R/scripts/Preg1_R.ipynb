{
 "cells": [
  {
   "cell_type": "code",
   "execution_count": 5,
   "id": "f9e93c3f",
   "metadata": {},
   "outputs": [],
   "source": [
    "#Instalar paquetes por si no están activos aún\n",
    "#install.packages(\"dagitty\")\n",
    "#install.packages(\"ggplot2\")\n",
    "#install.packages(\"dplyr\")\n",
    "#install.packages(\"gridExtra\")\n",
    "#install.packages(\"broom\")\n",
    "#install.packages(\"knitr\")\n",
    "#install.packages(\"xtable\")\n",
    "\n",
    "library(dagitty)\n",
    "library(ggplot2)\n",
    "library(dplyr)\n",
    "library(gridExtra)\n",
    "library(broom)\n",
    "library(knitr)\n",
    "library(xtable)\n",
    "\n",
    "# Seteamos nuevo directorio\n",
    "set.seed(123)"
   ]
  },
  {
   "cell_type": "code",
   "execution_count": 16,
   "id": "f6a0319d",
   "metadata": {},
   "outputs": [],
   "source": [
    "setwd(\"C:/Users/Julio/output\")"
   ]
  },
  {
   "cell_type": "code",
   "execution_count": 17,
   "id": "b13eb8f5",
   "metadata": {},
   "outputs": [
    {
     "name": "stdout",
     "output_type": "stream",
     "text": [
      "[1] \"Confounder: Una variable que afecta tanto al tratamiento como al resultado, creando una asociación espuria. Si no se controla, puede llevar a estimaciones sesgadas del efecto causal.\\nCollider: Una variable que es afectada tanto por el tratamiento como por el resultado (o variables en el camino causal). Controlar por un colisionador puede introducir sesgo.\\nMediator: Una variable que se encuentra en el camino causal entre el tratamiento y el resultado. El tratamiento afecta al mediador, el cual a su vez afecta al resultado\"\n"
     ]
    }
   ],
   "source": [
    "#Parte1a\n",
    "Deficiones_conceptuales <- \"Confounder: Una variable que afecta tanto al tratamiento como al resultado, creando una asociación espuria. Si no se controla, puede llevar a estimaciones sesgadas del efecto causal.\n",
    "Collider: Una variable que es afectada tanto por el tratamiento como por el resultado (o variables en el camino causal). Controlar por un colisionador puede introducir sesgo.\n",
    "Mediator: Una variable que se encuentra en el camino causal entre el tratamiento y el resultado. El tratamiento afecta al mediador, el cual a su vez afecta al resultado\"\n",
    "print(Deficiones_conceptuales)"
   ]
  },
  {
   "cell_type": "code",
   "execution_count": 1,
   "id": "620c4f36",
   "metadata": {},
   "outputs": [
    {
     "ename": "ERROR",
     "evalue": "Error: objeto 'Deficiones_conceptuales' no encontrado\n",
     "output_type": "error",
     "traceback": [
      "Error: objeto 'Deficiones_conceptuales' no encontrado\nTraceback:\n",
      "1. .handleSimpleError(function (cnd) \n . {\n .     watcher$capture_plot_and_output()\n .     cnd <- sanitize_call(cnd)\n .     watcher$push(cnd)\n .     switch(on_error, continue = invokeRestart(\"eval_continue\"), \n .         stop = invokeRestart(\"eval_stop\"), error = NULL)\n . }, \"objeto 'Deficiones_conceptuales' no encontrado\", base::quote(eval(expr, \n .     envir)))"
     ]
    }
   ],
   "source": [
    "writeLines(Deficiones_conceptuales, \"definiciones_conceptuales.md\")"
   ]
  },
  {
   "cell_type": "code",
   "execution_count": 25,
   "id": "6d53f89d",
   "metadata": {},
   "outputs": [
    {
     "name": "stderr",
     "output_type": "stream",
     "text": [
      "Plot coordinates for graph not supplied! Generating coordinates, see ?coordinates for how to set your own.\n",
      "\n",
      "Plot coordinates for graph not supplied! Generating coordinates, see ?coordinates for how to set your own.\n",
      "\n"
     ]
    },
    {
     "data": {
      "image/png": "[encoded data removed]",
      "text/plain": [
       "plot without title"
      ]
     },
     "metadata": {
      "image/png": {
       "height": 420,
       "width": 420
      }
     },
     "output_type": "display_data"
    },
    {
     "name": "stderr",
     "output_type": "stream",
     "text": [
      "Plot coordinates for graph not supplied! Generating coordinates, see ?coordinates for how to set your own.\n",
      "\n"
     ]
    },
    {
     "data": {
      "text/html": [
       "<strong>pdf:</strong> 2"
      ],
      "text/latex": [
       "\\textbf{pdf:} 2"
      ],
      "text/markdown": [
       "**pdf:** 2"
      ],
      "text/plain": [
       "pdf \n",
       "  2 "
      ]
     },
     "metadata": {},
     "output_type": "display_data"
    },
    {
     "data": {
      "image/png": "[encoded data removed]",
      "text/plain": [
       "plot without title"
      ]
     },
     "metadata": {
      "image/png": {
       "height": 420,
       "width": 420
      }
     },
     "output_type": "display_data"
    }
   ],
   "source": [
    "Ej_confuonder <- \"Efecto de la Educación en los Ingresos\n",
    "Tratamiento (X): Años de Educación\n",
    "Resultado (Y): Ingreso Anual\n",
    "Variable Confusora (Z): Estatus Socioeconómico Familiar\n",
    "El origen familiar afecta tanto las oportunidades educativas como el potencial de ingresos\"\n",
    "# Crear DAG para variable confusora\n",
    "dag_confusor <- dagitty(\"dag {\n",
    "    Estatus_Familiar -> Educacion\n",
    "    Estatus_Familiar -> Ingresos\n",
    "    Educacion -> Ingresos\n",
    "}\")\n",
    "\n",
    "# Visualizar y exportar el DAG\n",
    "plot(dag_confusor, main = \"Variable Confusora: Estatus Socioeconómico Familiar\")\n",
    "confuonder_graph <- plot(dag_confusor, main = \"Variable Confusora: Estatus Socioeconómico Familiar\")\n",
    "\n",
    "png(\"confuonder.png\", width = 1000, height = 800, res = 120)\n",
    "plot(dag_confusor, main = \"Variable Confusora: Estatus Socioeconómico Familiar\")\n",
    "dev.off()"
   ]
  },
  {
   "cell_type": "code",
   "execution_count": 29,
   "id": "7553992b",
   "metadata": {},
   "outputs": [
    {
     "name": "stderr",
     "output_type": "stream",
     "text": [
      "Plot coordinates for graph not supplied! Generating coordinates, see ?coordinates for how to set your own.\n",
      "\n",
      "Plot coordinates for graph not supplied! Generating coordinates, see ?coordinates for how to set your own.\n",
      "\n"
     ]
    },
    {
     "data": {
      "image/png": "[encoded data removed]",
      "text/plain": [
       "plot without title"
      ]
     },
     "metadata": {
      "image/png": {
       "height": 420,
       "width": 420
      }
     },
     "output_type": "display_data"
    },
    {
     "name": "stderr",
     "output_type": "stream",
     "text": [
      "Plot coordinates for graph not supplied! Generating coordinates, see ?coordinates for how to set your own.\n",
      "\n"
     ]
    },
    {
     "data": {
      "text/html": [
       "<strong>pdf:</strong> 2"
      ],
      "text/latex": [
       "\\textbf{pdf:} 2"
      ],
      "text/markdown": [
       "**pdf:** 2"
      ],
      "text/plain": [
       "pdf \n",
       "  2 "
      ]
     },
     "metadata": {},
     "output_type": "display_data"
    },
    {
     "data": {
      "image/png": "[encoded data removed]",
      "text/plain": [
       "plot without title"
      ]
     },
     "metadata": {
      "image/png": {
       "height": 420,
       "width": 420
      }
     },
     "output_type": "display_data"
    }
   ],
   "source": [
    "EJ_Collider <- \"Talento y Educación en Contratación\n",
    "\n",
    "Tratamiento (X): Nivel de Educación\n",
    "Resultado (Y): Talento Natural\n",
    "Colisionador (Z): Ser Contratado en Empresa Top\n",
    "Tanto la educación como el talento aumentan las posibilidades de ser contratado\"\n",
    "# Crear DAG para variable colisionadora\n",
    "dag_collider <- dagitty(\"dag {\n",
    "    Educacion -> Contratado\n",
    "    Talento -> Contratado\n",
    "}\")\n",
    "\n",
    "# Visualizar y exportar el DAG\n",
    "plot(dag_collider, main = \"Variable Colisionadora: Ser Contratado\")\n",
    "collider_graph <- plot(dag_collider, main = \"Variable Colisionadora: Talento y Educación en Contratación\")\n",
    "\n",
    "png(\"collider.png\", width = 1000, height = 800, res = 120)\n",
    "plot(dag_collider, main = \"Variable Colisionadora: Talento y Educación en Contratación\")\n",
    "dev.off()"
   ]
  },
  {
   "cell_type": "code",
   "execution_count": 30,
   "id": "09deca7a",
   "metadata": {},
   "outputs": [
    {
     "name": "stderr",
     "output_type": "stream",
     "text": [
      "Plot coordinates for graph not supplied! Generating coordinates, see ?coordinates for how to set your own.\n",
      "\n",
      "Plot coordinates for graph not supplied! Generating coordinates, see ?coordinates for how to set your own.\n",
      "\n"
     ]
    },
    {
     "data": {
      "image/png": "[encoded data removed]",
      "text/plain": [
       "plot without title"
      ]
     },
     "metadata": {
      "image/png": {
       "height": 420,
       "width": 420
      }
     },
     "output_type": "display_data"
    },
    {
     "name": "stderr",
     "output_type": "stream",
     "text": [
      "Plot coordinates for graph not supplied! Generating coordinates, see ?coordinates for how to set your own.\n",
      "\n"
     ]
    },
    {
     "data": {
      "text/html": [
       "<strong>pdf:</strong> 2"
      ],
      "text/latex": [
       "\\textbf{pdf:} 2"
      ],
      "text/markdown": [
       "**pdf:** 2"
      ],
      "text/plain": [
       "pdf \n",
       "  2 "
      ]
     },
     "metadata": {},
     "output_type": "display_data"
    },
    {
     "data": {
      "image/png": "[encoded data removed]",
      "text/plain": [
       "plot without title"
      ]
     },
     "metadata": {
      "image/png": {
       "height": 420,
       "width": 420
      }
     },
     "output_type": "display_data"
    }
   ],
   "source": [
    "EJ_Mediator <- \"Capacitación y Productividad a través de Habilidades\n",
    "\n",
    "Tratamiento (X): Programa de Capacitación Laboral\n",
    "Resultado (Y): Productividad del Trabajador\n",
    "Mediador (Z): Nivel de Habilidades\n",
    "La capacitación mejora las habilidades, las cuales mejoran la productividad\"\n",
    "# Crear DAG para variable mediadora\n",
    "dag_mediator <- dagitty(\"dag {\n",
    "    Capacitacion -> Habilidades\n",
    "    Habilidades -> Productividad\n",
    "    Capacitacion -> Productividad\n",
    "}\")\n",
    "\n",
    "# Visualizar y exportar el DAG\n",
    "plot(dag_mediator, main = \"Variable Mediadora: Habilidades\")\n",
    "mediator_graph <- plot(dag_mediator, main = \"Variable Mediadora: Capacitación y Productividad a través de Habilidades\")\n",
    "\n",
    "png(\"Mediator.png\", width = 1000, height = 800, res = 120)\n",
    "plot(dag_mediator, main = \"Variable Mediadora: Capacitación y Productividad a través de Habilidades\")\n",
    "dev.off()"
   ]
  },
  {
   "cell_type": "code",
   "execution_count": 34,
   "id": "3c8d446b",
   "metadata": {},
   "outputs": [
    {
     "name": "stderr",
     "output_type": "stream",
     "text": [
      "\u001b[1m\u001b[22m`geom_smooth()` using formula = 'y ~ x'\n",
      "\u001b[1m\u001b[22m`geom_smooth()` using formula = 'y ~ x'\n"
     ]
    },
    {
     "name": "stdout",
     "output_type": "stream",
     "text": [
      "Pendiente Grupo 1: 0.4104152 \n",
      "Pendiente Grupo 2: 0.4461003 \n",
      "Pendiente Combinada: -0.3085944 \n"
     ]
    },
    {
     "data": {
      "image/png": "[encoded data removed]",
      "text/plain": [
       "plot without title"
      ]
     },
     "metadata": {
      "image/png": {
       "height": 420,
       "width": 420
      }
     },
     "output_type": "display_data"
    }
   ],
   "source": [
    "#Parte1b\n",
    "Paradoja_simpson <- \"La Paradoja de Simpson ocurre cuando una tendencia aparece en diferentes grupos de datos pero desaparece o se invierte cuando los grupos se combinan.\n",
    "Esto sucede debido a la presencia de una variable confusora que afecta tanto a la variable explicativa como al resultado de manera diferente entre grupos.\"\n",
    "writeLines(Paradoja_simpson, \"Paradoja_simpson.md\")\n",
    "#Simulación de la paradoja\n",
    "n_por_grupo <- 200  # Número de observaciones por grupo\n",
    "\n",
    "# Grupo 1: Valores altos de X, relación positiva\n",
    "grupo1 <- data.frame(\n",
    "    grupo = \"Grupo 1\",\n",
    "    x = rnorm(n_por_grupo, mean = 8, sd = 1),    # X con media alta\n",
    "    epsilon = rnorm(n_por_grupo, 0, 1)           # Término de error\n",
    ")\n",
    "# Y depende positivamente de X dentro del grupo 1\n",
    "grupo1$y <- 2 + 0.5 * grupo1$x + grupo1$epsilon\n",
    "\n",
    "# Grupo 2: Valores bajos de X, relación positiva\n",
    "grupo2 <- data.frame(\n",
    "    grupo = \"Grupo 2\", \n",
    "    x = rnorm(n_por_grupo, mean = 4, sd = 1),    # X con media baja\n",
    "    epsilon = rnorm(n_por_grupo, 0, 1)           # Término de error\n",
    ")\n",
    "# Y también depende positivamente de X dentro del grupo 2, pero con intercepto más alto\n",
    "grupo2$y <- 6 + 0.5 * grupo2$x + grupo2$epsilon\n",
    "\n",
    "# Combinar ambos grupos en un solo dataset\n",
    "datos_simpson <- rbind(grupo1, grupo2)\n",
    "\n",
    "# Ajustar líneas de regresión para cada grupo y para el total combinado\n",
    "modelo_grupo1 <- lm(y ~ x, data = grupo1)      # Regresión solo grupo 1\n",
    "modelo_grupo2 <- lm(y ~ x, data = grupo2)      # Regresión solo grupo 2\n",
    "modelo_combinado <- lm(y ~ x, data = datos_simpson)  # Regresión datos combinados\n",
    "\n",
    "# Crear el gráfico que muestra la paradoja\n",
    "grafico_simpson <- ggplot(datos_simpson, aes(x = x, y = y, color = grupo)) +\n",
    "    geom_point(alpha = 0.6) +  # Puntos semitransparentes\n",
    "    # Líneas de regresión para cada grupo (coloreadas)\n",
    "    geom_smooth(method = \"lm\", se = FALSE, aes(color = grupo)) +\n",
    "    # Línea de regresión para datos combinados (negra discontinua)\n",
    "    geom_smooth(method = \"lm\", se = FALSE, color = \"black\", linetype = \"dashed\", \n",
    "                data = datos_simpson, aes(x = x, y = y)) +\n",
    "    labs(title = \"Paradoja de Simpson\",\n",
    "         subtitle = \"Relación positiva dentro de grupos, negativa en el total\",\n",
    "         x = \"Variable Explicativa (X)\", \n",
    "         y = \"Variable Resultado (Y)\",\n",
    "         color = \"Grupo\") +\n",
    "    theme_minimal()\n",
    "\n",
    "# Mostrar el gráfico\n",
    "print(grafico_simpson)\n",
    "\n",
    "# Imprimir los coeficientes para verificar la paradoja\n",
    "cat(\"Pendiente Grupo 1:\", coef(modelo_grupo1)[2], \"\\n\")\n",
    "cat(\"Pendiente Grupo 2:\", coef(modelo_grupo2)[2], \"\\n\") \n",
    "cat(\"Pendiente Combinada:\", coef(modelo_combinado)[2], \"\\n\")\n",
    "#El cambio en las pendientes muestra claramente como las tendencias se pierden al combinar los grupos."
   ]
  },
  {
   "cell_type": "code",
   "execution_count": null,
   "id": "41bebf0e",
   "metadata": {},
   "outputs": [],
   "source": []
  }
 ],
 "metadata": {
  "kernelspec": {
   "display_name": "R",
   "language": "R",
   "name": "ir"
  },
  "language_info": {
   "codemirror_mode": "r",
   "file_extension": ".r",
   "mimetype": "text/x-r-source",
   "name": "R",
   "pygments_lexer": "r",
   "version": "4.3.1"
  }
 },
 "nbformat": 4,
 "nbformat_minor": 5
}
